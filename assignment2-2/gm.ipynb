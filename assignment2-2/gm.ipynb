{
 "cells": [
  {
   "cell_type": "code",
   "execution_count": 1,
   "metadata": {},
   "outputs": [],
   "source": [
    "# Assignment 2, Problem 5\n",
    "# Gradient Method (GM)\n",
    "# U. Kamilov, Z. Zou\n",
    "# Computational Imaging Group (CIG), WashU\n",
    "\n",
    "# Import useful libraries\n",
    "import numpy as np\n",
    "import scipy.io as sio\n",
    "import matplotlib.pyplot as plt"
   ]
  },
  {
   "cell_type": "code",
   "execution_count": 2,
   "metadata": {},
   "outputs": [],
   "source": [
    "# Load the dataset\n",
    "data = sio.loadmat('dataset.mat')"
   ]
  },
  {
   "cell_type": "code",
   "execution_count": 3,
   "metadata": {},
   "outputs": [],
   "source": [
    "# Access data in the dataset\n",
    "A, b = data['A'], data['b']\n",
    "p, n = A.shape"
   ]
  },
  {
   "cell_type": "code",
   "execution_count": 4,
   "metadata": {},
   "outputs": [],
   "source": [
    "# Define the function and the gradient\n",
    "def evaluateFunc(x):\n",
    "    return (1/n) * np.sum(np.log(1 + np.exp(-b * (A.T @ x))))\n",
    "\n",
    "def evaluateGrad(x):\n",
    "    return (1/n) * A @ (-b * np.exp(-b * (A.T @ x)) / (1 + np.exp(-b * (A.T @ x))))"
   ]
  },
  {
   "cell_type": "code",
   "execution_count": 5,
   "metadata": {},
   "outputs": [],
   "source": [
    "# Parameters of the gradient method\n",
    "xInit = np.zeros((p, 1)) # zero initialization\n",
    "stepSize = 0.1 # step-size of the gradient method\n",
    "tol = 1e-6 # stopping tolerance\n",
    "maxIter = 100 # maximum number of iterations"
   ]
  },
  {
   "cell_type": "code",
   "execution_count": 6,
   "metadata": {},
   "outputs": [],
   "source": [
    "# Initialize\n",
    "x = xInit\n",
    "objVals = np.zeros((maxIter, 1)) # keep track of cost function values"
   ]
  },
  {
   "cell_type": "code",
   "execution_count": 7,
   "metadata": {},
   "outputs": [],
   "source": [
    "for iter in range(maxIter):\n",
    "    # gradient at w\n",
    "    grad = evaluateGrad(x)\n",
    "\n",
    "    # update\n",
    "    xNext = x - stepSize * grad\n",
    "\n",
    "    # evaluate the objective\n",
    "    funcNext = evaluateFunc(xNext)\n",
    "\n",
    "    # store the objective and the classification error\n",
    "    objVals[iter] = funcNext\n",
    "    \n",
    "    # print('[%d/%d] [step: %.1e] [objective: %.4e]' % (iter, maxIter, stepSize, objVals[iter]))\n",
    "    \n",
    "    # check stopping criterion\n",
    "    if np.linalg.norm(grad) < tol:\n",
    "        break\n",
    "    \n",
    "    # update x\n",
    "    x = xNext"
   ]
  },
  {
   "cell_type": "code",
   "execution_count": 8,
   "metadata": {},
   "outputs": [
    {
     "data": {
      "image/png": "[encoded data removed]",
      "text/plain": [
       "<Figure size 432x288 with 1 Axes>"
      ]
     },
     "metadata": {
      "needs_background": "light"
     },
     "output_type": "display_data"
    }
   ],
   "source": [
    "# Visualize the result\n",
    "plt.semilogy(np.arange(maxIter), objVals, 'b-', linewidth=2)\n",
    "plt.grid(True)\n",
    "plt.axis('tight')\n",
    "plt.xlabel('iteration', fontsize = 20)\n",
    "plt.ylabel('objective', fontsize = 20)\n",
    "plt.title('cost: %.4e' % objVals[-1], fontsize = 20)\n",
    "plt.xlim([1, maxIter])\n",
    "plt.draw()\n",
    "plt.show()"
   ]
  }
 ],
 "metadata": {
  "kernelspec": {
   "display_name": "Python 3 (ipykernel)",
   "language": "python",
   "name": "python3"
  },
  "language_info": {
   "codemirror_mode": {
    "name": "ipython",
    "version": 3
   },
   "file_extension": ".py",
   "mimetype": "text/x-python",
   "name": "python",
   "nbconvert_exporter": "python",
   "pygments_lexer": "ipython3",
   "version": "3.9.7"
  }
 },
 "nbformat": 4,
 "nbformat_minor": 2
}
